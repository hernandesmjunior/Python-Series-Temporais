{
 "cells": [
  {
   "cell_type": "markdown",
   "metadata": {
    "heading_collapsed": true
   },
   "source": [
    "# TESTE DE ESTACIONARIDADE"
   ]
  },
  {
   "cell_type": "markdown",
   "metadata": {
    "heading_collapsed": true
   },
   "source": [
    "# 0.0 Importações"
   ]
  },
  {
   "cell_type": "code",
   "execution_count": 9,
   "metadata": {
    "ExecuteTime": {
     "end_time": "2021-08-28T21:27:12.292253Z",
     "start_time": "2021-08-28T21:27:11.970900Z"
    },
    "hidden": true
   },
   "outputs": [],
   "source": [
    "import pandas as pd\n",
    "import numpy as np\n",
    "import matplotlib.pyplot as plt\n",
    "import seaborn as sns\n",
    "import statsmodels.tsa.stattools\n",
    "\n",
    "from matplotlib.pylab import rcParams\n",
    "\n",
    "sns.set()"
   ]
  },
  {
   "cell_type": "code",
   "execution_count": 2,
   "metadata": {
    "ExecuteTime": {
     "end_time": "2021-08-28T21:23:28.714369Z",
     "start_time": "2021-08-28T21:23:28.698278Z"
    },
    "hidden": true
   },
   "outputs": [],
   "source": [
    "rcParams['figure.figsize'] = 15, 6"
   ]
  },
  {
   "cell_type": "markdown",
   "metadata": {
    "heading_collapsed": true
   },
   "source": [
    "# 1.0 Criação da Série"
   ]
  },
  {
   "cell_type": "code",
   "execution_count": 3,
   "metadata": {
    "ExecuteTime": {
     "end_time": "2021-08-28T21:24:14.019346Z",
     "start_time": "2021-08-28T21:24:14.000748Z"
    },
    "hidden": true
   },
   "outputs": [
    {
     "data": {
      "text/plain": [
       "array([ 1.3315865 ,  0.71527897, -1.54540029, -0.00838385,  0.62133597,\n",
       "       -0.72008556,  0.26551159,  0.10854853,  0.00429143, -0.17460021,\n",
       "        0.43302619,  1.20303737, -0.96506567,  1.02827408,  0.22863013,\n",
       "        0.44513761, -1.13660221,  0.13513688,  1.484537  , -1.07980489,\n",
       "       -1.97772828, -1.7433723 ,  0.26607016,  2.38496733,  1.12369125,\n",
       "        1.67262221,  0.09914922,  1.39799638, -0.27124799,  0.61320418,\n",
       "       -0.26731719, -0.54930901,  0.1327083 , -0.47614201,  1.30847308,\n",
       "        0.19501328,  0.40020999, -0.33763234,  1.25647226, -0.7319695 ,\n",
       "        0.66023155])"
      ]
     },
     "execution_count": 3,
     "metadata": {},
     "output_type": "execute_result"
    }
   ],
   "source": [
    "np.random.seed(10)\n",
    "dados1 = np.random.normal(0, 1, 41)\n",
    "dados1"
   ]
  },
  {
   "cell_type": "code",
   "execution_count": 4,
   "metadata": {
    "ExecuteTime": {
     "end_time": "2021-08-28T21:24:33.264497Z",
     "start_time": "2021-08-28T21:24:33.250140Z"
    },
    "hidden": true
   },
   "outputs": [
    {
     "data": {
      "text/html": [
       "<div>\n",
       "<style scoped>\n",
       "    .dataframe tbody tr th:only-of-type {\n",
       "        vertical-align: middle;\n",
       "    }\n",
       "\n",
       "    .dataframe tbody tr th {\n",
       "        vertical-align: top;\n",
       "    }\n",
       "\n",
       "    .dataframe thead th {\n",
       "        text-align: right;\n",
       "    }\n",
       "</style>\n",
       "<table border=\"1\" class=\"dataframe\">\n",
       "  <thead>\n",
       "    <tr style=\"text-align: right;\">\n",
       "      <th></th>\n",
       "      <th>0</th>\n",
       "    </tr>\n",
       "  </thead>\n",
       "  <tbody>\n",
       "    <tr>\n",
       "      <th>0</th>\n",
       "      <td>1.331587</td>\n",
       "    </tr>\n",
       "    <tr>\n",
       "      <th>1</th>\n",
       "      <td>0.715279</td>\n",
       "    </tr>\n",
       "    <tr>\n",
       "      <th>2</th>\n",
       "      <td>-1.545400</td>\n",
       "    </tr>\n",
       "    <tr>\n",
       "      <th>3</th>\n",
       "      <td>-0.008384</td>\n",
       "    </tr>\n",
       "    <tr>\n",
       "      <th>4</th>\n",
       "      <td>0.621336</td>\n",
       "    </tr>\n",
       "  </tbody>\n",
       "</table>\n",
       "</div>"
      ],
      "text/plain": [
       "          0\n",
       "0  1.331587\n",
       "1  0.715279\n",
       "2 -1.545400\n",
       "3 -0.008384\n",
       "4  0.621336"
      ]
     },
     "execution_count": 4,
     "metadata": {},
     "output_type": "execute_result"
    }
   ],
   "source": [
    "dados1 = pd.DataFrame(dados1)\n",
    "dados1.head()"
   ]
  },
  {
   "cell_type": "code",
   "execution_count": 5,
   "metadata": {
    "ExecuteTime": {
     "end_time": "2021-08-28T21:25:02.301875Z",
     "start_time": "2021-08-28T21:25:02.289906Z"
    },
    "hidden": true
   },
   "outputs": [
    {
     "data": {
      "text/html": [
       "<div>\n",
       "<style scoped>\n",
       "    .dataframe tbody tr th:only-of-type {\n",
       "        vertical-align: middle;\n",
       "    }\n",
       "\n",
       "    .dataframe tbody tr th {\n",
       "        vertical-align: top;\n",
       "    }\n",
       "\n",
       "    .dataframe thead th {\n",
       "        text-align: right;\n",
       "    }\n",
       "</style>\n",
       "<table border=\"1\" class=\"dataframe\">\n",
       "  <thead>\n",
       "    <tr style=\"text-align: right;\">\n",
       "      <th></th>\n",
       "      <th>valores</th>\n",
       "    </tr>\n",
       "  </thead>\n",
       "  <tbody>\n",
       "    <tr>\n",
       "      <th>0</th>\n",
       "      <td>1.331587</td>\n",
       "    </tr>\n",
       "    <tr>\n",
       "      <th>1</th>\n",
       "      <td>0.715279</td>\n",
       "    </tr>\n",
       "    <tr>\n",
       "      <th>2</th>\n",
       "      <td>-1.545400</td>\n",
       "    </tr>\n",
       "    <tr>\n",
       "      <th>3</th>\n",
       "      <td>-0.008384</td>\n",
       "    </tr>\n",
       "    <tr>\n",
       "      <th>4</th>\n",
       "      <td>0.621336</td>\n",
       "    </tr>\n",
       "  </tbody>\n",
       "</table>\n",
       "</div>"
      ],
      "text/plain": [
       "    valores\n",
       "0  1.331587\n",
       "1  0.715279\n",
       "2 -1.545400\n",
       "3 -0.008384\n",
       "4  0.621336"
      ]
     },
     "execution_count": 5,
     "metadata": {},
     "output_type": "execute_result"
    }
   ],
   "source": [
    "dados1.columns = ['valores']\n",
    "dados1.head()"
   ]
  },
  {
   "cell_type": "code",
   "execution_count": 6,
   "metadata": {
    "ExecuteTime": {
     "end_time": "2021-08-28T21:25:44.094598Z",
     "start_time": "2021-08-28T21:25:44.073424Z"
    },
    "hidden": true
   },
   "outputs": [
    {
     "data": {
      "text/plain": [
       "DatetimeIndex(['1980-12-31', '1981-12-31', '1982-12-31', '1983-12-31',\n",
       "               '1984-12-31', '1985-12-31', '1986-12-31', '1987-12-31',\n",
       "               '1988-12-31', '1989-12-31', '1990-12-31', '1991-12-31',\n",
       "               '1992-12-31', '1993-12-31', '1994-12-31', '1995-12-31',\n",
       "               '1996-12-31', '1997-12-31', '1998-12-31', '1999-12-31',\n",
       "               '2000-12-31', '2001-12-31', '2002-12-31', '2003-12-31',\n",
       "               '2004-12-31', '2005-12-31', '2006-12-31', '2007-12-31',\n",
       "               '2008-12-31', '2009-12-31', '2010-12-31', '2011-12-31',\n",
       "               '2012-12-31', '2013-12-31', '2014-12-31', '2015-12-31',\n",
       "               '2016-12-31', '2017-12-31', '2018-12-31', '2019-12-31',\n",
       "               '2020-12-31'],\n",
       "              dtype='datetime64[ns]', freq='A-DEC')"
      ]
     },
     "execution_count": 6,
     "metadata": {},
     "output_type": "execute_result"
    }
   ],
   "source": [
    "indice = pd.date_range('1980', periods=len(dados1), freq='Y')\n",
    "indice"
   ]
  },
  {
   "cell_type": "code",
   "execution_count": 7,
   "metadata": {
    "ExecuteTime": {
     "end_time": "2021-08-28T21:26:16.574837Z",
     "start_time": "2021-08-28T21:26:16.562227Z"
    },
    "hidden": true
   },
   "outputs": [],
   "source": [
    "serie1 = pd.Series(dados1['valores'].values, index=indice)"
   ]
  },
  {
   "cell_type": "code",
   "execution_count": 8,
   "metadata": {
    "ExecuteTime": {
     "end_time": "2021-08-28T21:26:21.573963Z",
     "start_time": "2021-08-28T21:26:21.234969Z"
    },
    "hidden": true
   },
   "outputs": [
    {
     "data": {
      "text/plain": [
       "<AxesSubplot:>"
      ]
     },
     "execution_count": 8,
     "metadata": {},
     "output_type": "execute_result"
    },
    {
     "data": {
      "image/png": "[encoded data removed]",
      "text/plain": [
       "<Figure size 1080x432 with 1 Axes>"
      ]
     },
     "metadata": {},
     "output_type": "display_data"
    }
   ],
   "source": [
    "serie1.plot()"
   ]
  },
  {
   "cell_type": "markdown",
   "metadata": {},
   "source": [
    "# 2.0 Teste de Estacionaridade"
   ]
  },
  {
   "cell_type": "markdown",
   "metadata": {},
   "source": [
    "Teste KPSS (Kwiatkowski – Phillips – Schmidt – Shin\n",
    "\n",
    "- Ho = não é estacionário: estatística do teste > valor crítico;\n",
    "- Ha = é estacionário: estatística do teste < valor crítico."
   ]
  },
  {
   "cell_type": "code",
   "execution_count": 12,
   "metadata": {
    "ExecuteTime": {
     "end_time": "2021-08-28T21:43:37.806810Z",
     "start_time": "2021-08-28T21:43:37.791816Z"
    }
   },
   "outputs": [
    {
     "name": "stdout",
     "output_type": "stream",
     "text": [
      "Estatística do teste: 0.1918\n",
      "p-valor: 0.1000\n",
      "Número de lags: 10\n",
      "Valores Críticos:\n",
      "10%: 0.3470\n",
      "5%: 0.4630\n",
      "2.5%: 0.5740\n",
      "1%: 0.7390\n"
     ]
    },
    {
     "name": "stderr",
     "output_type": "stream",
     "text": [
      "C:\\Users\\herna\\anaconda3\\lib\\site-packages\\statsmodels\\tsa\\stattools.py:1910: InterpolationWarning: The test statistic is outside of the range of p-values available in the\n",
      "look-up table. The actual p-value is greater than the p-value returned.\n",
      "\n",
      "  warnings.warn(\n"
     ]
    }
   ],
   "source": [
    "kpss = statsmodels.tsa.stattools.kpss(serie1)\n",
    "print('Estatística do teste: {:.4f}'.format(kpss[0]))\n",
    "print('p-valor: {:.4f}'.format(kpss[1]))\n",
    "print('Número de lags: {}'.format(kpss[2]))\n",
    "print('Valores Críticos:')\n",
    "\n",
    "for chave, valor in kpss[3].items():\n",
    "    print('{}: {:.4f}'.format(chave, valor))\n",
    "    "
   ]
  },
  {
   "cell_type": "markdown",
   "metadata": {},
   "source": [
    "Teste DF (Dickey Fuller)\n",
    "\n",
    "- Ho = não é estacionário: estatística do teste > valor crítico;\n",
    "- Ha = é estacionário: estatística do teste < valor crítico."
   ]
  },
  {
   "cell_type": "code",
   "execution_count": 14,
   "metadata": {
    "ExecuteTime": {
     "end_time": "2021-08-28T21:47:38.827840Z",
     "start_time": "2021-08-28T21:47:38.807806Z"
    }
   },
   "outputs": [
    {
     "name": "stdout",
     "output_type": "stream",
     "text": [
      "Estatística do teste: -5.8642\n",
      "p-valor: 0.00000034\n",
      "Valores Críticos:\n",
      "1%: -3.6056\n",
      "5%: -2.9371\n",
      "10%: -2.6070\n"
     ]
    }
   ],
   "source": [
    "df = statsmodels.tsa.stattools.adfuller(serie1)\n",
    "print('Estatística do teste: {:.4f}'.format(df[0]))\n",
    "print('p-valor: {:.8f}'.format(df[1]))\n",
    "print('Valores Críticos:')\n",
    "\n",
    "for chave, valor in df[4].items():\n",
    "    print('{}: {:.4f}'.format(chave, valor))"
   ]
  },
  {
   "cell_type": "code",
   "execution_count": null,
   "metadata": {},
   "outputs": [],
   "source": []
  },
  {
   "cell_type": "code",
   "execution_count": null,
   "metadata": {},
   "outputs": [],
   "source": []
  },
  {
   "cell_type": "code",
   "execution_count": null,
   "metadata": {},
   "outputs": [],
   "source": []
  },
  {
   "cell_type": "code",
   "execution_count": null,
   "metadata": {},
   "outputs": [],
   "source": []
  }
 ],
 "metadata": {
  "kernelspec": {
   "display_name": "Python 3",
   "language": "python",
   "name": "python3"
  },
  "language_info": {
   "codemirror_mode": {
    "name": "ipython",
    "version": 3
   },
   "file_extension": ".py",
   "mimetype": "text/x-python",
   "name": "python",
   "nbconvert_exporter": "python",
   "pygments_lexer": "ipython3",
   "version": "3.8.5"
  }
 },
 "nbformat": 4,
 "nbformat_minor": 4
}
